{
 "cells": [
  {
   "cell_type": "code",
   "execution_count": 1,
   "id": "7a2b47ac",
   "metadata": {},
   "outputs": [],
   "source": [
    "import tensorflow as tf\n",
    "from tensorflow.keras.applications import InceptionV3\n",
    "from tensorflow.keras.models import Model\n",
    "from tensorflow.keras.layers import Dropout,Input,Flatten,Dense,MaxPooling2D\n",
    "from tensorflow.keras.optimizers import Adam\n",
    "from tensorflow.keras.preprocessing.image import ImageDataGenerator\n"
   ]
  },
  {
   "cell_type": "code",
   "execution_count": 2,
   "id": "7eed7c61",
   "metadata": {},
   "outputs": [
    {
     "name": "stdout",
     "output_type": "stream",
     "text": [
      "WARNING:tensorflow:From C:\\Users\\Moinaktar shaikh\\AppData\\Local\\Temp\\ipykernel_11848\\337460670.py:1: is_gpu_available (from tensorflow.python.framework.test_util) is deprecated and will be removed in a future version.\n",
      "Instructions for updating:\n",
      "Use `tf.config.list_physical_devices('GPU')` instead.\n"
     ]
    },
    {
     "data": {
      "text/plain": [
       "False"
      ]
     },
     "execution_count": 2,
     "metadata": {},
     "output_type": "execute_result"
    }
   ],
   "source": [
    "tf.test.is_gpu_available()"
   ]
  },
  {
   "cell_type": "code",
   "execution_count": 2,
   "id": "0bffa1e8",
   "metadata": {},
   "outputs": [],
   "source": [
    "batchsize=8"
   ]
  },
  {
   "cell_type": "code",
   "execution_count": 3,
   "id": "7835e587",
   "metadata": {},
   "outputs": [
    {
     "name": "stdout",
     "output_type": "stream",
     "text": [
      "Found 64530 images belonging to 2 classes.\n",
      "Found 16132 images belonging to 2 classes.\n"
     ]
    }
   ],
   "source": [
    "train_datagen= ImageDataGenerator(rescale=1./255, rotation_range=0.2, shear_range=0.2, zoom_range=0.2,\n",
    "                               width_shift_range=0.2, height_shift_range=0.2, validation_split=0.2)\n",
    "\n",
    "train_data=train_datagen.flow_from_directory(r'C:\\Drwsiness\\Prepared_Data\\train',target_size=(80,80),\n",
    "                                             batch_size=batchsize, class_mode='categorical',subset='training')\n",
    "\n",
    "validation_data= train_datagen.flow_from_directory(r'C:\\Drwsiness\\Prepared_Data\\train',target_size=(80,80),\n",
    "                                             batch_size=batchsize, class_mode='categorical',subset='validation')"
   ]
  },
  {
   "cell_type": "code",
   "execution_count": 4,
   "id": "6cfd4fa5",
   "metadata": {},
   "outputs": [
    {
     "name": "stdout",
     "output_type": "stream",
     "text": [
      "Found 4236 images belonging to 2 classes.\n"
     ]
    }
   ],
   "source": [
    "test_datagen = ImageDataGenerator(rescale=1./255)\n",
    "test_data = test_datagen.flow_from_directory(r'C:\\Drwsiness\\Prepared_Data\\test',target_size=(80,80),\n",
    "                                             batch_size=batchsize, class_mode='categorical')\n"
   ]
  },
  {
   "cell_type": "code",
   "execution_count": 5,
   "id": "664957f5",
   "metadata": {},
   "outputs": [],
   "source": [
    "bmodel = InceptionV3(include_top=False, weights ='imagenet', input_tensor=Input(shape=(80,80,3)))\n",
    "hmodel = bmodel.output\n",
    "hmodel = Flatten()(hmodel)\n",
    "hmodel = Dense(64, activation='relu')(hmodel)\n",
    "hmodel = Dropout(0.5)(hmodel)\n",
    "hmodel = Dense(2,activation= 'softmax')(hmodel)\n",
    "\n",
    "model = Model (inputs = bmodel.input, outputs = hmodel)\n",
    "for layer in bmodel.layers:\n",
    "    layer.trainable = False\n"
   ]
  },
  {
   "cell_type": "code",
   "execution_count": 6,
   "id": "cedc38d3",
   "metadata": {},
   "outputs": [],
   "source": [
    "from tensorflow.keras.callbacks import ModelCheckpoint,EarlyStopping,ReduceLROnPlateau"
   ]
  },
  {
   "cell_type": "code",
   "execution_count": 7,
   "id": "0cd6d035",
   "metadata": {},
   "outputs": [],
   "source": [
    "checkpoint = ModelCheckpoint(r'C:\\Drwsiness\\models\\model.h5',monitor = 'val_loss', save_best_only=True,verbose=3)\n",
    "\n",
    "earlystop = EarlyStopping(monitor = 'val_loss', patience=7,verbose =3, restore_best_weights=True)\n",
    "\n",
    "learning_rate = ReduceLROnPlateau(monitor = 'val_loss', patience=3,verbose=3,)\n",
    "\n",
    "callbacks = [checkpoint,earlystop,learning_rate]\n"
   ]
  },
  {
   "cell_type": "code",
   "execution_count": 8,
   "id": "78a900d9",
   "metadata": {},
   "outputs": [
    {
     "name": "stderr",
     "output_type": "stream",
     "text": [
      "C:\\Users\\Moinaktar shaikh\\AppData\\Local\\Temp\\ipykernel_18408\\716146542.py:2: UserWarning: `Model.fit_generator` is deprecated and will be removed in a future version. Please use `Model.fit`, which supports generators.\n",
      "  model.fit_generator(train_data,steps_per_epoch=train_data.samples//batchsize,\n"
     ]
    },
    {
     "name": "stdout",
     "output_type": "stream",
     "text": [
      "Epoch 1/50\n",
      "8065/8066 [============================>.] - ETA: 0s - loss: 0.2084 - accuracy: 0.9187\n",
      "Epoch 1: val_loss improved from inf to 0.19547, saving model to C:\\Drwsiness\\models\\model.h5\n",
      "8066/8066 [==============================] - 344s 42ms/step - loss: 0.2084 - accuracy: 0.9187 - val_loss: 0.1955 - val_accuracy: 0.9171 - lr: 0.0010\n",
      "Epoch 2/50\n",
      "8066/8066 [==============================] - ETA: 0s - loss: 0.1768 - accuracy: 0.9314\n",
      "Epoch 2: val_loss did not improve from 0.19547\n",
      "8066/8066 [==============================] - 337s 42ms/step - loss: 0.1768 - accuracy: 0.9314 - val_loss: 0.2034 - val_accuracy: 0.9154 - lr: 0.0010\n",
      "Epoch 3/50\n",
      "8065/8066 [============================>.] - ETA: 0s - loss: 0.1739 - accuracy: 0.9331\n",
      "Epoch 3: val_loss improved from 0.19547 to 0.19425, saving model to C:\\Drwsiness\\models\\model.h5\n",
      "8066/8066 [==============================] - 334s 41ms/step - loss: 0.1739 - accuracy: 0.9331 - val_loss: 0.1942 - val_accuracy: 0.9190 - lr: 0.0010\n",
      "Epoch 4/50\n",
      "8066/8066 [==============================] - ETA: 0s - loss: 0.1640 - accuracy: 0.9371\n",
      "Epoch 4: val_loss improved from 0.19425 to 0.18823, saving model to C:\\Drwsiness\\models\\model.h5\n",
      "8066/8066 [==============================] - 328s 41ms/step - loss: 0.1640 - accuracy: 0.9371 - val_loss: 0.1882 - val_accuracy: 0.9190 - lr: 0.0010\n",
      "Epoch 5/50\n",
      "8065/8066 [============================>.] - ETA: 0s - loss: 0.1614 - accuracy: 0.9382\n",
      "Epoch 5: val_loss improved from 0.18823 to 0.18211, saving model to C:\\Drwsiness\\models\\model.h5\n",
      "8066/8066 [==============================] - 327s 41ms/step - loss: 0.1613 - accuracy: 0.9382 - val_loss: 0.1821 - val_accuracy: 0.9288 - lr: 0.0010\n",
      "Epoch 6/50\n",
      "8066/8066 [==============================] - ETA: 0s - loss: 0.1582 - accuracy: 0.9387\n",
      "Epoch 6: val_loss did not improve from 0.18211\n",
      "8066/8066 [==============================] - 328s 41ms/step - loss: 0.1582 - accuracy: 0.9387 - val_loss: 0.1927 - val_accuracy: 0.9209 - lr: 0.0010\n",
      "Epoch 7/50\n",
      "8066/8066 [==============================] - ETA: 0s - loss: 0.1545 - accuracy: 0.9414\n",
      "Epoch 7: val_loss improved from 0.18211 to 0.17313, saving model to C:\\Drwsiness\\models\\model.h5\n",
      "8066/8066 [==============================] - 335s 42ms/step - loss: 0.1545 - accuracy: 0.9414 - val_loss: 0.1731 - val_accuracy: 0.9304 - lr: 0.0010\n",
      "Epoch 8/50\n",
      "8065/8066 [============================>.] - ETA: 0s - loss: 0.1542 - accuracy: 0.9411\n",
      "Epoch 8: val_loss did not improve from 0.17313\n",
      "8066/8066 [==============================] - 335s 42ms/step - loss: 0.1542 - accuracy: 0.9411 - val_loss: 0.1836 - val_accuracy: 0.9291 - lr: 0.0010\n",
      "Epoch 9/50\n",
      "8065/8066 [============================>.] - ETA: 0s - loss: 0.1530 - accuracy: 0.9417\n",
      "Epoch 9: val_loss did not improve from 0.17313\n",
      "8066/8066 [==============================] - 337s 42ms/step - loss: 0.1530 - accuracy: 0.9418 - val_loss: 0.1943 - val_accuracy: 0.9195 - lr: 0.0010\n",
      "Epoch 10/50\n",
      "8065/8066 [============================>.] - ETA: 0s - loss: 0.1533 - accuracy: 0.9422\n",
      "Epoch 10: val_loss did not improve from 0.17313\n",
      "\n",
      "Epoch 10: ReduceLROnPlateau reducing learning rate to 0.00010000000474974513.\n",
      "8066/8066 [==============================] - 330s 41ms/step - loss: 0.1533 - accuracy: 0.9422 - val_loss: 0.1946 - val_accuracy: 0.9166 - lr: 0.0010\n",
      "Epoch 11/50\n",
      "8065/8066 [============================>.] - ETA: 0s - loss: 0.1421 - accuracy: 0.9464\n",
      "Epoch 11: val_loss did not improve from 0.17313\n",
      "8066/8066 [==============================] - 328s 41ms/step - loss: 0.1421 - accuracy: 0.9464 - val_loss: 0.1965 - val_accuracy: 0.9195 - lr: 1.0000e-04\n",
      "Epoch 12/50\n",
      "8065/8066 [============================>.] - ETA: 0s - loss: 0.1406 - accuracy: 0.9460\n",
      "Epoch 12: val_loss did not improve from 0.17313\n",
      "8066/8066 [==============================] - 329s 41ms/step - loss: 0.1405 - accuracy: 0.9460 - val_loss: 0.1949 - val_accuracy: 0.9218 - lr: 1.0000e-04\n",
      "Epoch 13/50\n",
      "8066/8066 [==============================] - ETA: 0s - loss: 0.1379 - accuracy: 0.9475\n",
      "Epoch 13: val_loss did not improve from 0.17313\n",
      "\n",
      "Epoch 13: ReduceLROnPlateau reducing learning rate to 1.0000000474974514e-05.\n",
      "8066/8066 [==============================] - 342s 42ms/step - loss: 0.1379 - accuracy: 0.9475 - val_loss: 0.1916 - val_accuracy: 0.9254 - lr: 1.0000e-04\n",
      "Epoch 14/50\n",
      "8066/8066 [==============================] - ETA: 0s - loss: 0.1343 - accuracy: 0.9481\n",
      "Epoch 14: val_loss did not improve from 0.17313\n",
      "Restoring model weights from the end of the best epoch: 7.\n",
      "8066/8066 [==============================] - 333s 41ms/step - loss: 0.1343 - accuracy: 0.9481 - val_loss: 0.1875 - val_accuracy: 0.9258 - lr: 1.0000e-05\n",
      "Epoch 14: early stopping\n"
     ]
    },
    {
     "data": {
      "text/plain": [
       "<keras.callbacks.History at 0x1f986c9a7c0>"
      ]
     },
     "execution_count": 8,
     "metadata": {},
     "output_type": "execute_result"
    }
   ],
   "source": [
    "model.compile(optimizer='Adam', loss='categorical_crossentropy',metrics=['accuracy'])\n",
    "model.fit_generator(train_data,steps_per_epoch=train_data.samples//batchsize,\n",
    "                   validation_data=validation_data,\n",
    "                   validation_steps=validation_data.samples//batchsize,\n",
    "                   callbacks=callbacks,\n",
    "                    epochs =50)"
   ]
  },
  {
   "cell_type": "code",
   "execution_count": 9,
   "id": "e0e4708e",
   "metadata": {},
   "outputs": [
    {
     "name": "stderr",
     "output_type": "stream",
     "text": [
      "C:\\Users\\Moinaktar shaikh\\AppData\\Local\\Temp\\ipykernel_18408\\713691994.py:1: UserWarning: `Model.evaluate_generator` is deprecated and will be removed in a future version. Please use `Model.evaluate`, which supports generators.\n",
      "  acc_tr, loss_tr = model.evaluate_generator(train_data)\n"
     ]
    },
    {
     "name": "stdout",
     "output_type": "stream",
     "text": [
      "0.13296109437942505\n",
      "0.949573814868927\n"
     ]
    }
   ],
   "source": [
    "acc_tr, loss_tr = model.evaluate_generator(train_data)\n",
    "print(acc_tr)\n",
    "print(loss_tr)"
   ]
  },
  {
   "cell_type": "code",
   "execution_count": 10,
   "id": "62cd6449",
   "metadata": {},
   "outputs": [
    {
     "name": "stderr",
     "output_type": "stream",
     "text": [
      "C:\\Users\\Moinaktar shaikh\\AppData\\Local\\Temp\\ipykernel_18408\\2510674040.py:1: UserWarning: `Model.evaluate_generator` is deprecated and will be removed in a future version. Please use `Model.evaluate`, which supports generators.\n",
      "  acc_vr, loss_vr = model.evaluate_generator(validation_data)\n"
     ]
    },
    {
     "name": "stdout",
     "output_type": "stream",
     "text": [
      "0.17611336708068848\n",
      "0.931006669998169\n"
     ]
    }
   ],
   "source": [
    "acc_vr, loss_vr = model.evaluate_generator(validation_data)\n",
    "print(acc_vr)\n",
    "print(loss_vr)\n"
   ]
  },
  {
   "cell_type": "code",
   "execution_count": 11,
   "id": "1ccca401",
   "metadata": {},
   "outputs": [
    {
     "name": "stderr",
     "output_type": "stream",
     "text": [
      "C:\\Users\\Moinaktar shaikh\\AppData\\Local\\Temp\\ipykernel_18408\\1566569169.py:1: UserWarning: `Model.evaluate_generator` is deprecated and will be removed in a future version. Please use `Model.evaluate`, which supports generators.\n",
      "  acc_test, loss_test = model.evaluate_generator(test_data)\n"
     ]
    },
    {
     "name": "stdout",
     "output_type": "stream",
     "text": [
      "0.13296109437942505\n",
      "0.949573814868927\n"
     ]
    }
   ],
   "source": [
    "acc_test, loss_test = model.evaluate_generator(test_data)\n",
    "print(acc_tr)\n",
    "print(loss_tr)\n"
   ]
  },
  {
   "cell_type": "code",
   "execution_count": null,
   "id": "4661d089",
   "metadata": {},
   "outputs": [],
   "source": []
  }
 ],
 "metadata": {
  "kernelspec": {
   "display_name": "Python 3 (ipykernel)",
   "language": "python",
   "name": "python3"
  },
  "language_info": {
   "codemirror_mode": {
    "name": "ipython",
    "version": 3
   },
   "file_extension": ".py",
   "mimetype": "text/x-python",
   "name": "python",
   "nbconvert_exporter": "python",
   "pygments_lexer": "ipython3",
   "version": "3.9.12"
  }
 },
 "nbformat": 4,
 "nbformat_minor": 5
}
